{
 "cells": [
  {
   "cell_type": "code",
   "execution_count": 1,
   "id": "80cbf582-4ea7-467a-95a2-eac529fc415b",
   "metadata": {},
   "outputs": [],
   "source": [
    "import pandas as pd"
   ]
  },
  {
   "cell_type": "code",
   "execution_count": 2,
   "id": "5d6ae76b-1172-4281-8f10-c0cb9500c474",
   "metadata": {},
   "outputs": [],
   "source": [
    "data = pd.read_csv(\"Data.csv\")"
   ]
  },
  {
   "cell_type": "code",
   "execution_count": 3,
   "id": "5f59afe4-4924-4458-b803-8420b325df7d",
   "metadata": {},
   "outputs": [],
   "source": [
    "data = data.drop(columns=[\"#\", \"id\"])"
   ]
  },
  {
   "cell_type": "code",
   "execution_count": 4,
   "id": "f4758868-197d-4277-8df8-47212cb33d4e",
   "metadata": {},
   "outputs": [
    {
     "data": {
      "text/plain": [
       "(921153, 16)"
      ]
     },
     "execution_count": 4,
     "metadata": {},
     "output_type": "execute_result"
    }
   ],
   "source": [
    "data.shape"
   ]
  },
  {
   "cell_type": "code",
   "execution_count": 5,
   "id": "a185c4e2-522b-49e7-8949-318f8678f725",
   "metadata": {},
   "outputs": [],
   "source": [
    "data = data.drop_duplicates()"
   ]
  },
  {
   "cell_type": "code",
   "execution_count": 6,
   "id": "d474da5f-3cdb-4f71-9d52-598a8c6fe802",
   "metadata": {},
   "outputs": [],
   "source": [
    "data.to_csv(\"Data_removed_dublicates.csv\")"
   ]
  },
  {
   "cell_type": "code",
   "execution_count": 83,
   "id": "bfc613b3-4241-4999-b3ae-37f999302517",
   "metadata": {},
   "outputs": [
    {
     "data": {
      "text/plain": [
       "array(['ECONOMY', 'BUSINESS', 'FIRST', 'PREMIUM_ECONOMY'], dtype=object)"
      ]
     },
     "execution_count": 83,
     "metadata": {},
     "output_type": "execute_result"
    }
   ],
   "source": [
    "data.flight_class.unique()"
   ]
  },
  {
   "cell_type": "code",
   "execution_count": 7,
   "id": "2c4c94ae-bf64-4797-9349-be96f5f83719",
   "metadata": {},
   "outputs": [
    {
     "data": {
      "text/plain": [
       "172221"
      ]
     },
     "execution_count": 7,
     "metadata": {},
     "output_type": "execute_result"
    }
   ],
   "source": [
    "921153 - 748932"
   ]
  },
  {
   "cell_type": "code",
   "execution_count": 8,
   "id": "046de506-0ab6-4686-ae80-dd953a9fd9d5",
   "metadata": {},
   "outputs": [
    {
     "data": {
      "text/html": [
       "<div>\n",
       "<style scoped>\n",
       "    .dataframe tbody tr th:only-of-type {\n",
       "        vertical-align: middle;\n",
       "    }\n",
       "\n",
       "    .dataframe tbody tr th {\n",
       "        vertical-align: top;\n",
       "    }\n",
       "\n",
       "    .dataframe thead th {\n",
       "        text-align: right;\n",
       "    }\n",
       "</style>\n",
       "<table border=\"1\" class=\"dataframe\">\n",
       "  <thead>\n",
       "    <tr style=\"text-align: right;\">\n",
       "      <th></th>\n",
       "      <th>departure_date</th>\n",
       "      <th>departure_airport</th>\n",
       "      <th>destination_airport</th>\n",
       "      <th>departure_time</th>\n",
       "      <th>one_way</th>\n",
       "      <th>arrival_date</th>\n",
       "      <th>arrival_time</th>\n",
       "      <th>flight_time</th>\n",
       "      <th>stops_number</th>\n",
       "      <th>stops_list</th>\n",
       "      <th>flight_class</th>\n",
       "      <th>total_price</th>\n",
       "      <th>base_price</th>\n",
       "      <th>additional_services</th>\n",
       "      <th>currency</th>\n",
       "      <th>carrier_codes</th>\n",
       "    </tr>\n",
       "  </thead>\n",
       "  <tbody>\n",
       "    <tr>\n",
       "      <th>0</th>\n",
       "      <td>2022-01-20</td>\n",
       "      <td>DOH</td>\n",
       "      <td>DXB</td>\n",
       "      <td>17:00:00</td>\n",
       "      <td>False</td>\n",
       "      <td>NaN</td>\n",
       "      <td>19:10:00</td>\n",
       "      <td>1H10M</td>\n",
       "      <td>0</td>\n",
       "      <td>{DXB}</td>\n",
       "      <td>ECONOMY</td>\n",
       "      <td>118.52</td>\n",
       "      <td>82.0</td>\n",
       "      <td>NaN</td>\n",
       "      <td>EUR</td>\n",
       "      <td>FZ</td>\n",
       "    </tr>\n",
       "    <tr>\n",
       "      <th>1</th>\n",
       "      <td>2022-01-20</td>\n",
       "      <td>DOH</td>\n",
       "      <td>DXB</td>\n",
       "      <td>20:15:00</td>\n",
       "      <td>False</td>\n",
       "      <td>NaN</td>\n",
       "      <td>22:25:00</td>\n",
       "      <td>1H10M</td>\n",
       "      <td>0</td>\n",
       "      <td>{DXB}</td>\n",
       "      <td>ECONOMY</td>\n",
       "      <td>118.52</td>\n",
       "      <td>82.0</td>\n",
       "      <td>NaN</td>\n",
       "      <td>EUR</td>\n",
       "      <td>FZ</td>\n",
       "    </tr>\n",
       "    <tr>\n",
       "      <th>2</th>\n",
       "      <td>2022-01-20</td>\n",
       "      <td>DOH</td>\n",
       "      <td>DXB</td>\n",
       "      <td>13:45:00</td>\n",
       "      <td>False</td>\n",
       "      <td>NaN</td>\n",
       "      <td>21:35:00</td>\n",
       "      <td>6H50M</td>\n",
       "      <td>1</td>\n",
       "      <td>{AMM}</td>\n",
       "      <td>ECONOMY</td>\n",
       "      <td>119.82</td>\n",
       "      <td>48.0</td>\n",
       "      <td>NaN</td>\n",
       "      <td>EUR</td>\n",
       "      <td>RJ</td>\n",
       "    </tr>\n",
       "    <tr>\n",
       "      <th>3</th>\n",
       "      <td>2022-01-20</td>\n",
       "      <td>DOH</td>\n",
       "      <td>DXB</td>\n",
       "      <td>16:15:00</td>\n",
       "      <td>False</td>\n",
       "      <td>NaN</td>\n",
       "      <td>03:15:00</td>\n",
       "      <td>10H</td>\n",
       "      <td>1</td>\n",
       "      <td>{AMM}</td>\n",
       "      <td>ECONOMY</td>\n",
       "      <td>119.82</td>\n",
       "      <td>48.0</td>\n",
       "      <td>NaN</td>\n",
       "      <td>EUR</td>\n",
       "      <td>RJ</td>\n",
       "    </tr>\n",
       "    <tr>\n",
       "      <th>4</th>\n",
       "      <td>2022-01-20</td>\n",
       "      <td>DOH</td>\n",
       "      <td>DXB</td>\n",
       "      <td>15:30:00</td>\n",
       "      <td>False</td>\n",
       "      <td>NaN</td>\n",
       "      <td>03:15:00</td>\n",
       "      <td>10H45M</td>\n",
       "      <td>1</td>\n",
       "      <td>{AMM}</td>\n",
       "      <td>ECONOMY</td>\n",
       "      <td>119.82</td>\n",
       "      <td>48.0</td>\n",
       "      <td>NaN</td>\n",
       "      <td>EUR</td>\n",
       "      <td>RJ</td>\n",
       "    </tr>\n",
       "  </tbody>\n",
       "</table>\n",
       "</div>"
      ],
      "text/plain": [
       "  departure_date departure_airport destination_airport departure_time  \\\n",
       "0     2022-01-20               DOH                 DXB       17:00:00   \n",
       "1     2022-01-20               DOH                 DXB       20:15:00   \n",
       "2     2022-01-20               DOH                 DXB       13:45:00   \n",
       "3     2022-01-20               DOH                 DXB       16:15:00   \n",
       "4     2022-01-20               DOH                 DXB       15:30:00   \n",
       "\n",
       "   one_way  arrival_date arrival_time flight_time  stops_number stops_list  \\\n",
       "0    False           NaN     19:10:00       1H10M             0      {DXB}   \n",
       "1    False           NaN     22:25:00       1H10M             0      {DXB}   \n",
       "2    False           NaN     21:35:00       6H50M             1      {AMM}   \n",
       "3    False           NaN     03:15:00         10H             1      {AMM}   \n",
       "4    False           NaN     03:15:00      10H45M             1      {AMM}   \n",
       "\n",
       "  flight_class  total_price  base_price  additional_services currency  \\\n",
       "0      ECONOMY       118.52        82.0                  NaN      EUR   \n",
       "1      ECONOMY       118.52        82.0                  NaN      EUR   \n",
       "2      ECONOMY       119.82        48.0                  NaN      EUR   \n",
       "3      ECONOMY       119.82        48.0                  NaN      EUR   \n",
       "4      ECONOMY       119.82        48.0                  NaN      EUR   \n",
       "\n",
       "  carrier_codes  \n",
       "0            FZ  \n",
       "1            FZ  \n",
       "2            RJ  \n",
       "3            RJ  \n",
       "4            RJ  "
      ]
     },
     "execution_count": 8,
     "metadata": {},
     "output_type": "execute_result"
    }
   ],
   "source": [
    "data.head()"
   ]
  },
  {
   "cell_type": "code",
   "execution_count": 9,
   "id": "fa66ae59-85f6-48e4-a3a8-84739b555175",
   "metadata": {},
   "outputs": [],
   "source": [
    "data = data.drop(columns=[\"additional_services\", \"arrival_date\", \"one_way\"])"
   ]
  },
  {
   "cell_type": "code",
   "execution_count": 10,
   "id": "4e6bd9f9-3946-4024-a3cc-a3f7346f54a9",
   "metadata": {},
   "outputs": [
    {
     "data": {
      "text/html": [
       "<div>\n",
       "<style scoped>\n",
       "    .dataframe tbody tr th:only-of-type {\n",
       "        vertical-align: middle;\n",
       "    }\n",
       "\n",
       "    .dataframe tbody tr th {\n",
       "        vertical-align: top;\n",
       "    }\n",
       "\n",
       "    .dataframe thead th {\n",
       "        text-align: right;\n",
       "    }\n",
       "</style>\n",
       "<table border=\"1\" class=\"dataframe\">\n",
       "  <thead>\n",
       "    <tr style=\"text-align: right;\">\n",
       "      <th></th>\n",
       "      <th>departure_date</th>\n",
       "      <th>departure_airport</th>\n",
       "      <th>destination_airport</th>\n",
       "      <th>departure_time</th>\n",
       "      <th>arrival_time</th>\n",
       "      <th>flight_time</th>\n",
       "      <th>stops_number</th>\n",
       "      <th>stops_list</th>\n",
       "      <th>flight_class</th>\n",
       "      <th>total_price</th>\n",
       "      <th>base_price</th>\n",
       "      <th>currency</th>\n",
       "      <th>carrier_codes</th>\n",
       "    </tr>\n",
       "  </thead>\n",
       "  <tbody>\n",
       "    <tr>\n",
       "      <th>0</th>\n",
       "      <td>2022-01-20</td>\n",
       "      <td>DOH</td>\n",
       "      <td>DXB</td>\n",
       "      <td>17:00:00</td>\n",
       "      <td>19:10:00</td>\n",
       "      <td>1H10M</td>\n",
       "      <td>0</td>\n",
       "      <td>{DXB}</td>\n",
       "      <td>ECONOMY</td>\n",
       "      <td>118.52</td>\n",
       "      <td>82.0</td>\n",
       "      <td>EUR</td>\n",
       "      <td>FZ</td>\n",
       "    </tr>\n",
       "    <tr>\n",
       "      <th>1</th>\n",
       "      <td>2022-01-20</td>\n",
       "      <td>DOH</td>\n",
       "      <td>DXB</td>\n",
       "      <td>20:15:00</td>\n",
       "      <td>22:25:00</td>\n",
       "      <td>1H10M</td>\n",
       "      <td>0</td>\n",
       "      <td>{DXB}</td>\n",
       "      <td>ECONOMY</td>\n",
       "      <td>118.52</td>\n",
       "      <td>82.0</td>\n",
       "      <td>EUR</td>\n",
       "      <td>FZ</td>\n",
       "    </tr>\n",
       "    <tr>\n",
       "      <th>2</th>\n",
       "      <td>2022-01-20</td>\n",
       "      <td>DOH</td>\n",
       "      <td>DXB</td>\n",
       "      <td>13:45:00</td>\n",
       "      <td>21:35:00</td>\n",
       "      <td>6H50M</td>\n",
       "      <td>1</td>\n",
       "      <td>{AMM}</td>\n",
       "      <td>ECONOMY</td>\n",
       "      <td>119.82</td>\n",
       "      <td>48.0</td>\n",
       "      <td>EUR</td>\n",
       "      <td>RJ</td>\n",
       "    </tr>\n",
       "    <tr>\n",
       "      <th>3</th>\n",
       "      <td>2022-01-20</td>\n",
       "      <td>DOH</td>\n",
       "      <td>DXB</td>\n",
       "      <td>16:15:00</td>\n",
       "      <td>03:15:00</td>\n",
       "      <td>10H</td>\n",
       "      <td>1</td>\n",
       "      <td>{AMM}</td>\n",
       "      <td>ECONOMY</td>\n",
       "      <td>119.82</td>\n",
       "      <td>48.0</td>\n",
       "      <td>EUR</td>\n",
       "      <td>RJ</td>\n",
       "    </tr>\n",
       "    <tr>\n",
       "      <th>4</th>\n",
       "      <td>2022-01-20</td>\n",
       "      <td>DOH</td>\n",
       "      <td>DXB</td>\n",
       "      <td>15:30:00</td>\n",
       "      <td>03:15:00</td>\n",
       "      <td>10H45M</td>\n",
       "      <td>1</td>\n",
       "      <td>{AMM}</td>\n",
       "      <td>ECONOMY</td>\n",
       "      <td>119.82</td>\n",
       "      <td>48.0</td>\n",
       "      <td>EUR</td>\n",
       "      <td>RJ</td>\n",
       "    </tr>\n",
       "  </tbody>\n",
       "</table>\n",
       "</div>"
      ],
      "text/plain": [
       "  departure_date departure_airport destination_airport departure_time  \\\n",
       "0     2022-01-20               DOH                 DXB       17:00:00   \n",
       "1     2022-01-20               DOH                 DXB       20:15:00   \n",
       "2     2022-01-20               DOH                 DXB       13:45:00   \n",
       "3     2022-01-20               DOH                 DXB       16:15:00   \n",
       "4     2022-01-20               DOH                 DXB       15:30:00   \n",
       "\n",
       "  arrival_time flight_time  stops_number stops_list flight_class  total_price  \\\n",
       "0     19:10:00       1H10M             0      {DXB}      ECONOMY       118.52   \n",
       "1     22:25:00       1H10M             0      {DXB}      ECONOMY       118.52   \n",
       "2     21:35:00       6H50M             1      {AMM}      ECONOMY       119.82   \n",
       "3     03:15:00         10H             1      {AMM}      ECONOMY       119.82   \n",
       "4     03:15:00      10H45M             1      {AMM}      ECONOMY       119.82   \n",
       "\n",
       "   base_price currency carrier_codes  \n",
       "0        82.0      EUR            FZ  \n",
       "1        82.0      EUR            FZ  \n",
       "2        48.0      EUR            RJ  \n",
       "3        48.0      EUR            RJ  \n",
       "4        48.0      EUR            RJ  "
      ]
     },
     "execution_count": 10,
     "metadata": {},
     "output_type": "execute_result"
    }
   ],
   "source": [
    "data.head()"
   ]
  },
  {
   "cell_type": "code",
   "execution_count": 11,
   "id": "87f810be-d80b-4776-af62-54dad8d52c33",
   "metadata": {},
   "outputs": [
    {
     "data": {
      "text/plain": [
       "array([0, 1, 2])"
      ]
     },
     "execution_count": 11,
     "metadata": {},
     "output_type": "execute_result"
    }
   ],
   "source": [
    "data.stops_number.unique()"
   ]
  },
  {
   "cell_type": "code",
   "execution_count": 12,
   "id": "9c7ad32f-b7af-49da-b8f2-1f7f0e58fbe5",
   "metadata": {},
   "outputs": [],
   "source": [
    "counts = pd.DataFrame(data.groupby(by=[\"carrier_codes\"]).count().reset_index()[[\"carrier_codes\", \"departure_date\"]]).rename(columns={\"departure_date\" : \"counts\"})"
   ]
  },
  {
   "cell_type": "code",
   "execution_count": 13,
   "id": "c6b09262-36c2-4fbc-b0cd-74bdb37aa656",
   "metadata": {},
   "outputs": [
    {
     "data": {
      "text/html": [
       "<div>\n",
       "<style scoped>\n",
       "    .dataframe tbody tr th:only-of-type {\n",
       "        vertical-align: middle;\n",
       "    }\n",
       "\n",
       "    .dataframe tbody tr th {\n",
       "        vertical-align: top;\n",
       "    }\n",
       "\n",
       "    .dataframe thead th {\n",
       "        text-align: right;\n",
       "    }\n",
       "</style>\n",
       "<table border=\"1\" class=\"dataframe\">\n",
       "  <thead>\n",
       "    <tr style=\"text-align: right;\">\n",
       "      <th></th>\n",
       "      <th>carrier_codes</th>\n",
       "      <th>counts</th>\n",
       "    </tr>\n",
       "  </thead>\n",
       "  <tbody>\n",
       "    <tr>\n",
       "      <th>0</th>\n",
       "      <td>AC</td>\n",
       "      <td>1035</td>\n",
       "    </tr>\n",
       "    <tr>\n",
       "      <th>1</th>\n",
       "      <td>AF</td>\n",
       "      <td>1824</td>\n",
       "    </tr>\n",
       "    <tr>\n",
       "      <th>2</th>\n",
       "      <td>AT</td>\n",
       "      <td>6334</td>\n",
       "    </tr>\n",
       "    <tr>\n",
       "      <th>3</th>\n",
       "      <td>BG</td>\n",
       "      <td>1347</td>\n",
       "    </tr>\n",
       "    <tr>\n",
       "      <th>4</th>\n",
       "      <td>CZ</td>\n",
       "      <td>7</td>\n",
       "    </tr>\n",
       "    <tr>\n",
       "      <th>5</th>\n",
       "      <td>EK</td>\n",
       "      <td>1481</td>\n",
       "    </tr>\n",
       "    <tr>\n",
       "      <th>6</th>\n",
       "      <td>ET</td>\n",
       "      <td>19453</td>\n",
       "    </tr>\n",
       "    <tr>\n",
       "      <th>7</th>\n",
       "      <td>EY</td>\n",
       "      <td>79688</td>\n",
       "    </tr>\n",
       "    <tr>\n",
       "      <th>8</th>\n",
       "      <td>FZ</td>\n",
       "      <td>47346</td>\n",
       "    </tr>\n",
       "    <tr>\n",
       "      <th>9</th>\n",
       "      <td>GP</td>\n",
       "      <td>45501</td>\n",
       "    </tr>\n",
       "    <tr>\n",
       "      <th>10</th>\n",
       "      <td>HR</td>\n",
       "      <td>12585</td>\n",
       "    </tr>\n",
       "    <tr>\n",
       "      <th>11</th>\n",
       "      <td>IB</td>\n",
       "      <td>65</td>\n",
       "    </tr>\n",
       "    <tr>\n",
       "      <th>12</th>\n",
       "      <td>J2</td>\n",
       "      <td>4</td>\n",
       "    </tr>\n",
       "    <tr>\n",
       "      <th>13</th>\n",
       "      <td>KQ</td>\n",
       "      <td>9041</td>\n",
       "    </tr>\n",
       "    <tr>\n",
       "      <th>14</th>\n",
       "      <td>KU</td>\n",
       "      <td>32237</td>\n",
       "    </tr>\n",
       "    <tr>\n",
       "      <th>15</th>\n",
       "      <td>LH</td>\n",
       "      <td>12</td>\n",
       "    </tr>\n",
       "    <tr>\n",
       "      <th>16</th>\n",
       "      <td>ME</td>\n",
       "      <td>12694</td>\n",
       "    </tr>\n",
       "    <tr>\n",
       "      <th>17</th>\n",
       "      <td>MH</td>\n",
       "      <td>1564</td>\n",
       "    </tr>\n",
       "    <tr>\n",
       "      <th>18</th>\n",
       "      <td>MS</td>\n",
       "      <td>76007</td>\n",
       "    </tr>\n",
       "    <tr>\n",
       "      <th>19</th>\n",
       "      <td>NP</td>\n",
       "      <td>68</td>\n",
       "    </tr>\n",
       "    <tr>\n",
       "      <th>20</th>\n",
       "      <td>OS</td>\n",
       "      <td>1</td>\n",
       "    </tr>\n",
       "    <tr>\n",
       "      <th>21</th>\n",
       "      <td>OZ</td>\n",
       "      <td>483</td>\n",
       "    </tr>\n",
       "    <tr>\n",
       "      <th>22</th>\n",
       "      <td>PR</td>\n",
       "      <td>929</td>\n",
       "    </tr>\n",
       "    <tr>\n",
       "      <th>23</th>\n",
       "      <td>PW</td>\n",
       "      <td>17</td>\n",
       "    </tr>\n",
       "    <tr>\n",
       "      <th>24</th>\n",
       "      <td>QR</td>\n",
       "      <td>148144</td>\n",
       "    </tr>\n",
       "    <tr>\n",
       "      <th>25</th>\n",
       "      <td>RJ</td>\n",
       "      <td>79567</td>\n",
       "    </tr>\n",
       "    <tr>\n",
       "      <th>26</th>\n",
       "      <td>SU</td>\n",
       "      <td>97</td>\n",
       "    </tr>\n",
       "    <tr>\n",
       "      <th>27</th>\n",
       "      <td>SV</td>\n",
       "      <td>108773</td>\n",
       "    </tr>\n",
       "    <tr>\n",
       "      <th>28</th>\n",
       "      <td>TK</td>\n",
       "      <td>11478</td>\n",
       "    </tr>\n",
       "    <tr>\n",
       "      <th>29</th>\n",
       "      <td>TU</td>\n",
       "      <td>31</td>\n",
       "    </tr>\n",
       "    <tr>\n",
       "      <th>30</th>\n",
       "      <td>UL</td>\n",
       "      <td>17</td>\n",
       "    </tr>\n",
       "    <tr>\n",
       "      <th>31</th>\n",
       "      <td>WY</td>\n",
       "      <td>51102</td>\n",
       "    </tr>\n",
       "  </tbody>\n",
       "</table>\n",
       "</div>"
      ],
      "text/plain": [
       "   carrier_codes  counts\n",
       "0             AC    1035\n",
       "1             AF    1824\n",
       "2             AT    6334\n",
       "3             BG    1347\n",
       "4             CZ       7\n",
       "5             EK    1481\n",
       "6             ET   19453\n",
       "7             EY   79688\n",
       "8             FZ   47346\n",
       "9             GP   45501\n",
       "10            HR   12585\n",
       "11            IB      65\n",
       "12            J2       4\n",
       "13            KQ    9041\n",
       "14            KU   32237\n",
       "15            LH      12\n",
       "16            ME   12694\n",
       "17            MH    1564\n",
       "18            MS   76007\n",
       "19            NP      68\n",
       "20            OS       1\n",
       "21            OZ     483\n",
       "22            PR     929\n",
       "23            PW      17\n",
       "24            QR  148144\n",
       "25            RJ   79567\n",
       "26            SU      97\n",
       "27            SV  108773\n",
       "28            TK   11478\n",
       "29            TU      31\n",
       "30            UL      17\n",
       "31            WY   51102"
      ]
     },
     "execution_count": 13,
     "metadata": {},
     "output_type": "execute_result"
    }
   ],
   "source": [
    "counts"
   ]
  },
  {
   "cell_type": "code",
   "execution_count": 36,
   "id": "09b787a6-e11a-44f4-8b60-e7bd6873216e",
   "metadata": {},
   "outputs": [],
   "source": [
    "counts = counts.sort_values(\"counts\", ascending=False).reset_index().drop(columns=[\"index\"])"
   ]
  },
  {
   "cell_type": "code",
   "execution_count": 15,
   "id": "71abc487-187e-44f6-8263-d7c372a9027d",
   "metadata": {},
   "outputs": [],
   "source": [
    "import matplotlib.pyplot as plt"
   ]
  },
  {
   "cell_type": "code",
   "execution_count": 16,
   "id": "e5c13472-f703-44e5-b0c3-c0fd22067cd0",
   "metadata": {},
   "outputs": [
    {
     "data": {
      "image/png": "[encoded data removed]",
      "text/plain": [
       "<Figure size 640x480 with 1 Axes>"
      ]
     },
     "metadata": {},
     "output_type": "display_data"
    }
   ],
   "source": [
    "plt.pie(count_, labels=labels)\n",
    "plt.show()"
   ]
  },
  {
   "cell_type": "code",
   "execution_count": 59,
   "id": "28683319-4e86-49cc-8248-9e142de6b67a",
   "metadata": {},
   "outputs": [],
   "source": [
    "# N biggest players in the market\n",
    "n = 13"
   ]
  },
  {
   "cell_type": "code",
   "execution_count": 60,
   "id": "7559f526-fdd2-41a7-b19b-87a0935e0da0",
   "metadata": {},
   "outputs": [],
   "source": [
    "big_share = list(counts.carrier_codes)[:n]"
   ]
  },
  {
   "cell_type": "code",
   "execution_count": 61,
   "id": "69b4c27c-b6cd-43f9-9070-7525f48cd908",
   "metadata": {},
   "outputs": [],
   "source": [
    "others = 0\n",
    "for code in list(counts.carrier_codes):\n",
    "    if code not in big_share:\n",
    "        others += int(counts.loc[counts[\"carrier_codes\"] == code][\"counts\"])"
   ]
  },
  {
   "cell_type": "code",
   "execution_count": 62,
   "id": "37e5d84c-641a-4c20-94b4-4d957bb03605",
   "metadata": {},
   "outputs": [],
   "source": [
    "shares = big_share + [\"others\"]"
   ]
  },
  {
   "cell_type": "code",
   "execution_count": 63,
   "id": "c165c67c-a460-4536-bcf7-28776a022536",
   "metadata": {},
   "outputs": [],
   "source": [
    "values = []\n",
    "for code in big_share:\n",
    "    values.append(int(counts.loc[counts[\"carrier_codes\"] == code][\"counts\"]))\n",
    "values.append(others)"
   ]
  },
  {
   "cell_type": "code",
   "execution_count": 67,
   "id": "2e502316-ed9f-41b5-b9c1-0fec8cfa90ed",
   "metadata": {},
   "outputs": [
    {
     "data": {
      "text/plain": [
       "['QR',\n",
       " 'SV',\n",
       " 'EY',\n",
       " 'RJ',\n",
       " 'MS',\n",
       " 'WY',\n",
       " 'FZ',\n",
       " 'GP',\n",
       " 'KU',\n",
       " 'ET',\n",
       " 'ME',\n",
       " 'HR',\n",
       " 'TK',\n",
       " 'others']"
      ]
     },
     "execution_count": 67,
     "metadata": {},
     "output_type": "execute_result"
    }
   ],
   "source": [
    "shares"
   ]
  },
  {
   "cell_type": "code",
   "execution_count": 74,
   "id": "95a2fb66-4265-422a-ab3d-e1372132e2e6",
   "metadata": {},
   "outputs": [],
   "source": [
    "airlines_full_names = {\n",
    "    'QR' : \"Qatar Airways\",\n",
    "    \"RJ\" : \"Royal Jordanian\",\n",
    "    \"SV\" : \"Saudia\",\n",
    "    \"WY\" : \"Oman Air\",\n",
    "    \"EY\" : \"Etihad Airways\",\n",
    "    \"FZ\" : \"Flydubai\",\n",
    "    \"GP\" : \"APG Airlines\",\n",
    "    \"MS\" : \"EgyptAir\",\n",
    "    \"KU\" : \"Kuwait Airways\",\n",
    "    \"ET\" : \"Ethiopian Airlines\",\n",
    "    \"TK\" : \"Turkish Airlines\",\n",
    "    \"ME\" : \"Middle East Airlines\",\n",
    "    \"HR\" : \"Hahn Air\",\n",
    "    \"others\" : \"Others\" \n",
    "}"
   ]
  },
  {
   "cell_type": "code",
   "execution_count": 75,
   "id": "e67b6582-5a1a-4fb2-b397-3d6196a5818e",
   "metadata": {},
   "outputs": [],
   "source": [
    "labels = [airlines_full_names[code] for code in shares]"
   ]
  },
  {
   "cell_type": "code",
   "execution_count": 82,
   "id": "53442cf0-a1ec-455c-af32-42b6d2661598",
   "metadata": {},
   "outputs": [
    {
     "data": {
      "image/png": "[encoded data removed]",
      "text/plain": [
       "<Figure size 1000x800 with 1 Axes>"
      ]
     },
     "metadata": {},
     "output_type": "display_data"
    }
   ],
   "source": [
    "fig, ax = plt.subplots(figsize=(10,8), subplot_kw=dict(aspect=\"equal\"))\n",
    "wedges, texts, autotexts = ax.pie(values,labels=labels,\\\n",
    "                                  normalize=True, radius=1, autopct='%1.1f%%')\n",
    "\n",
    "plt.setp(autotexts, size=8, weight=\"bold\")\n",
    "ax.set_title('Amount of flight offers on the route (Doha - Middle East & Africa) in 2022')\n",
    "plt.savefig(\"AirlinesMarketShare.png\", bbox_inches = 'tight')\n",
    "plt.show()\n",
    "plt.close()"
   ]
  }
 ],
 "metadata": {
  "kernelspec": {
   "display_name": "Python 3",
   "language": "python",
   "name": "python3"
  },
  "language_info": {
   "codemirror_mode": {
    "name": "ipython",
    "version": 3
   },
   "file_extension": ".py",
   "mimetype": "text/x-python",
   "name": "python",
   "nbconvert_exporter": "python",
   "pygments_lexer": "ipython3",
   "version": "3.7.6"
  }
 },
 "nbformat": 4,
 "nbformat_minor": 5
}
