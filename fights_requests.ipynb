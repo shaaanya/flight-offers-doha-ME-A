{
 "cells": [
  {
   "cell_type": "code",
   "execution_count": null,
   "id": "3f179434-4bcb-43e8-acc9-47385857e0d8",
   "metadata": {},
   "outputs": [],
   "source": [
    "years = [2022]"
   ]
  },
  {
   "cell_type": "code",
   "execution_count": null,
   "id": "477d20b4",
   "metadata": {},
   "outputs": [],
   "source": [
    "dates_list = []\n",
    "\n",
    "for year in years:\n",
    "    for month in range(1, 13):\n",
    "        days = None\n",
    "        if month in [1,3,5,7,8,10,12]:\n",
    "            days = 31\n",
    "        elif month == 2 and year != 2020:\n",
    "            days = 28\n",
    "        elif month == 2 and year == 2020:\n",
    "            days = 29\n",
    "        else:\n",
    "            days = 30\n",
    "        for i in range(1, days + 1):\n",
    "            formatted_month = ''\n",
    "            if month < 10:\n",
    "                formatted_month = '0' + str(month)\n",
    "            else:\n",
    "                formatted_month = str(month)\n",
    "            formatted_day = '0'\n",
    "            if i < 10:\n",
    "                formatted_day = '0' + str(i)\n",
    "            else:\n",
    "                formatted_day = str(i)\n",
    "            date = str(year) + '-' + formatted_month + '-' + formatted_day \n",
    "            dates_list.append(date)"
   ]
  },
  {
   "cell_type": "markdown",
   "id": "c5037a50",
   "metadata": {},
   "source": [
    "Almost full list of Airport Codes (IATA) can be found here:\n",
    "\n",
    "https://www.nationsonline.org/oneworld/IATA_Codes/airport_code_list.htm\n",
    "\n",
    "Put codes you are interested in in airports_list, the code will requiest all possible combinations"
   ]
  },
  {
   "cell_type": "code",
   "execution_count": null,
   "id": "c885cd26",
   "metadata": {},
   "outputs": [],
   "source": [
    "airports_list = []\n",
    "departure_airports = [\"DOH\"]"
   ]
  },
  {
   "cell_type": "markdown",
   "id": "9f9e4ca7-adc1-496f-83d4-39ec0998e796",
   "metadata": {},
   "source": [
    "Airport codes were taken here: https://www.id1.de/2021/08/25/middle-east-africa-top-50-largest-airports-in-2021-by-number-of-flights/"
   ]
  },
  {
   "cell_type": "code",
   "execution_count": null,
   "id": "6a4956a1-09c0-4718-8c18-b19d4d0b8a2b",
   "metadata": {},
   "outputs": [],
   "source": [
    "f = open(\"airports.txt\")\n",
    "for line in f:\n",
    "    airports_list.append(line.rstrip())\n",
    "f.close()"
   ]
  },
  {
   "cell_type": "code",
   "execution_count": null,
   "id": "9f80b6b1-a0b4-4f0c-b186-f5723e62558f",
   "metadata": {},
   "outputs": [],
   "source": [
    "import psycopg2\n",
    "\n",
    "db_connection = psycopg2.connect(\n",
    "            host=\"localhost\",\n",
    "            user=\"user\",\n",
    "            password=password,\n",
    "            database=\"database\"\n",
    "        )\n",
    "cursor = db_connection.cursor()\n",
    "\n",
    "# in case you need to clear data in the table\n",
    "\n",
    "# query = \"DELETE FROM tickets_research\"\n",
    "# cursor.execute(query)\n",
    "# db_connection.commit()"
   ]
  },
  {
   "cell_type": "code",
   "execution_count": null,
   "id": "64ab68ca-147b-4614-b64d-aa42a2d36815",
   "metadata": {},
   "outputs": [],
   "source": [
    "from amadeus import Client, ResponseError\n",
    "\n",
    "keys = [\n",
    "    [\"client_id\" , \"client_secret\"],\n",
    "]"
   ]
  },
  {
   "cell_type": "code",
   "execution_count": null,
   "id": "e1e27106",
   "metadata": {},
   "outputs": [],
   "source": [
    "def add_to_df(data):\n",
    "    n = len(data)\n",
    "    for i in range(n):\n",
    "        segments = data[i][\"itineraries\"][0][\"segments\"]\n",
    "        Departure_Date, Departure_time = map(str, segments[0][\"departure\"][\"at\"].split(\"T\"))\n",
    "        Arrival_date, Arrival_time = map(str, segments[len(segments) - 1][\"arrival\"][\"at\"].split(\"T\"))\n",
    "        Departure_airport = segments[0][\"departure\"][\"iataCode\"]\n",
    "        Destination_airport = segments[len(segments) - 1][\"arrival\"][\"iataCode\"]\n",
    "        One_Way = data[i][\"oneWay\"]\n",
    "        Flight_Time = data[i][\"itineraries\"][0][\"duration\"][2:]\n",
    "        Stops_number = len(segments) - 1\n",
    "        Stops_list = []\n",
    "        for segment in segments[:1]:\n",
    "            Stops_list.append(segment[\"arrival\"][\"iataCode\"])\n",
    "        Flight_class = data[i][\"travelerPricings\"][0][\"fareDetailsBySegment\"][0][\"cabin\"]\n",
    "        Total_price = data[i][\"price\"][\"total\"]\n",
    "        Base_price = data[i][\"price\"][\"base\"]\n",
    "        Additional_Services = 0\n",
    "        try:\n",
    "            for j in range(len(data[i][\"price\"][\"additionalServices\"])):\n",
    "                Additional_Services += float(data[i][\"price\"][\"additionalServices\"][i][\"amount\"])\n",
    "            Additional_Services = str(Additional_Services)\n",
    "        except:\n",
    "            Additional_Services = \"None\"\n",
    "        Currency = data[i][\"price\"][\"currency\"]\n",
    "        Carrier_Codes = data[i][\"validatingAirlineCodes\"][0]\n",
    "        query = \"INSERT INTO tickets_research(Departure_Date,Departure_airport,Destination_airport,\\\n",
    "                    Departure_time, One_Way,Arrival_time,Flight_Time,Stops_number,Stops_list,Flight_class,\\\n",
    "                    Total_price,Base_price,Currency,Carrier_Codes) \\\n",
    "                    VALUES (%s, %s, %s, %s, %s, %s, %s, %s, %s, %s, %s, %s, %s, %s)\"\n",
    "        \n",
    "        cursor.execute(query, [Departure_Date,Departure_airport,Destination_airport,Departure_time,\n",
    "                       One_Way,Arrival_time,Flight_Time,Stops_number,Stops_list,Flight_class,Total_price,\n",
    "                       Base_price,Currency,Carrier_Codes])\n",
    "        db_connection.commit()"
   ]
  },
  {
   "cell_type": "markdown",
   "id": "8ecf5c42-7fd7-4207-b0bf-bc3fbbb641e2",
   "metadata": {},
   "source": [
    "Departure_Date | Departure_airport | Destanation_airport | Departure_time | One_Way | Arrival_time | Flight_Time | Stops_number | Stops_list |Flight_class | Total_price | Base_price | Currency | Carrier_Codes"
   ]
  },
  {
   "cell_type": "code",
   "execution_count": null,
   "id": "4b0714c6-3fee-425c-b807-6fe0a89e247e",
   "metadata": {},
   "outputs": [],
   "source": [
    "keys_count = 0\n",
    "amadeus = Client(\n",
    "    client_id=keys[keys_count][0],\n",
    "    client_secret=keys[keys_count][1]\n",
    ")\n",
    "count = 0\n",
    "for date in dates_list:\n",
    "    for departure in departure_airports:\n",
    "        for arrival in airports_list:\n",
    "            try:\n",
    "                response = amadeus.shopping.flight_offers_search.get(\n",
    "                    originLocationCode=departure,\n",
    "                    destinationLocationCode=arrival,\n",
    "                    departureDate=date,\n",
    "                    adults=1)\n",
    "                add_to_df(response.result[\"data\"])\n",
    "            except ResponseError as error:\n",
    "                print(\"Error\", error, \"Date\", date, \"Departure=\", departure, \"Destination=\", arrival)\n",
    "            try:\n",
    "                response = amadeus.shopping.flight_offers_search.get(\n",
    "                    originLocationCode=arrival,\n",
    "                    destinationLocationCode=departure,\n",
    "                    departureDate=date,\n",
    "                    adults=1)\n",
    "                add_to_df(response.result[\"data\"])\n",
    "            except ResponseError as error:\n",
    "                print(\"Error\", error, \"Date\", date, \"Departure=\", departure, \"Destination=\", arrival)\n",
    "            count += 2\n",
    "            if count == 2000:\n",
    "                count = 0\n",
    "                keys_count += 1\n",
    "                amadeus = Client(\n",
    "                    client_id=keys[keys_count][0],\n",
    "                    client_secret=keys[keys_count][1]\n",
    "                )\n",
    "    "
   ]
  }
 ],
 "metadata": {
  "kernelspec": {
   "display_name": "Python 3",
   "language": "python",
   "name": "python3"
  },
  "language_info": {
   "codemirror_mode": {
    "name": "ipython",
    "version": 3
   },
   "file_extension": ".py",
   "mimetype": "text/x-python",
   "name": "python",
   "nbconvert_exporter": "python",
   "pygments_lexer": "ipython3",
   "version": "3.7.6"
  }
 },
 "nbformat": 4,
 "nbformat_minor": 5
}
